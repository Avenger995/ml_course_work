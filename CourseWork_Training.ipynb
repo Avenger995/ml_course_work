{
 "cells": [
  {
   "cell_type": "markdown",
   "id": "7c77eb2d",
   "metadata": {},
   "source": [
    "Библиотеки и пакеты необходимые для реализации приложения"
   ]
  },
  {
   "cell_type": "code",
   "execution_count": 1,
   "id": "75b767e3",
   "metadata": {},
   "outputs": [],
   "source": [
    "%matplotlib inline\n",
    "import matplotlib.pyplot as plt\n",
    "import os\n",
    "import pandas as pd\n",
    "from pandas.plotting import scatter_matrix\n",
    "import numpy as np\n",
    "import seaborn as sns\n",
    "from sklearn.feature_selection import SelectKBest\n",
    "from sklearn.feature_selection import chi2\n",
    "from sklearn.preprocessing import StandardScaler, PolynomialFeatures, LabelEncoder\n",
    "from sklearn.model_selection import train_test_split\n",
    "from sklearn.linear_model import ElasticNet, LinearRegression\n",
    "from sklearn.metrics import mean_squared_error, r2_score"
   ]
  },
  {
   "cell_type": "markdown",
   "id": "8cc5e4b1",
   "metadata": {},
   "source": [
    "Константы, которые необходимы для реализации приложения"
   ]
  },
  {
   "cell_type": "code",
   "execution_count": null,
   "id": "5cd8fbfe",
   "metadata": {},
   "outputs": [],
   "source": []
  },
  {
   "cell_type": "markdown",
   "id": "20a202f2",
   "metadata": {},
   "source": [
    "#### 3. Поиск гиперапараметров"
   ]
  },
  {
   "cell_type": "markdown",
   "id": "f4954d43",
   "metadata": {},
   "source": [
    "3.1 Поиск гиперпараметров с помощью генетического алгоритма"
   ]
  },
  {
   "cell_type": "code",
   "execution_count": 3,
   "id": "b7386ed0",
   "metadata": {},
   "outputs": [],
   "source": [
    "LABELED_DATASET = 'C:\\\\Users\\\\Gubay\\\\OneDrive\\\\Documents\\\\Archive_University\\\\Мага_3\\\\ml_course_work\\\\datasets\\\\kdd_10000_labled_modified.csv'\n",
    "#LABELED_DATASET = 'C:\\\\Users\\\\vgubaydulin\\\\Desktop\\\\Вуз\\\\МАГ_2\\\\ml_course\\\\datasets\\\\kdd_10000_labeled.csv'\n",
    "labled_data = pd.read_csv(LABELED_DATASET)"
   ]
  },
  {
   "cell_type": "code",
   "execution_count": null,
   "id": "924befdc",
   "metadata": {},
   "outputs": [],
   "source": []
  }
 ],
 "metadata": {
  "kernelspec": {
   "display_name": "Python 3 (ipykernel)",
   "language": "python",
   "name": "python3"
  },
  "language_info": {
   "codemirror_mode": {
    "name": "ipython",
    "version": 3
   },
   "file_extension": ".py",
   "mimetype": "text/x-python",
   "name": "python",
   "nbconvert_exporter": "python",
   "pygments_lexer": "ipython3",
   "version": "3.11.4"
  }
 },
 "nbformat": 4,
 "nbformat_minor": 5
}
